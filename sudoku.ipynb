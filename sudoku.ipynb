{
  "cells": [
    {
      "cell_type": "code",
      "execution_count": null,
      "metadata": {
        "colab": {
          "base_uri": "https://localhost:8080/"
        },
        "id": "PFXF4MFdY14I",
        "outputId": "ebed7233-71b3-40b2-baf5-001e09515052"
      },
      "outputs": [],
      "source": [
        "import numpy as np\n",
        "\n",
        "# Load sudokus\n",
        "sudoku = np.load(\"data/very_easy_puzzle.npy\")\n",
        "print(\"very_easy_puzzle.npy has been loaded into the variable sudoku\")\n",
        "print(f\"sudoku.shape: {sudoku.shape}, sudoku[0].shape: {sudoku[0].shape}, sudoku.dtype: {sudoku.dtype}\")\n",
        "\n",
        "# Load solutions for demonstration\n",
        "solutions = np.load(\"data/very_easy_solution.npy\")\n",
        "print()\n",
        "\n",
        "# Print the first 9x9 sudoku...\n",
        "print(\"First sudoku:\")\n",
        "print(sudoku[0], \"\\n\")\n",
        "\n",
        "# ...and its solution\n",
        "print(\"Solution of first sudoku:\")\n",
        "print(solutions[0])"
      ]
    },
    {
      "cell_type": "markdown",
      "metadata": {
        "id": "r4Gk7csKY14J"
      },
      "source": [
        "## Part One\n",
        "You should write all of your code for solving sudokus below this cell.\n",
        "\n",
        "You must include a function called `sudoku_solver(sudoku)` which takes one sudoku puzzle (a 9x9 NumPy array) as input, and returns the solved sudoku as another 9x9 NumPy array. This is the function which will be tested. "
      ]
    },
    {
      "cell_type": "code",
      "execution_count": null,
      "metadata": {
        "id": "I8RxcVyV7QWp"
      },
      "outputs": [],
      "source": [
        "import numpy as np\n",
        "from itertools import product \n",
        "\n",
        "# Checks the grid rows for repeating numbers\n",
        "def validRows(grid):\n",
        "  for row in grid:\n",
        "    nonZero = [x for x in row if x != 0]\n",
        "    if (len(nonZero) != len(set(nonZero))): return False\n",
        "  return True\n",
        "\n",
        "# Checks the columns for repeating numbers\n",
        "def validColumns(grid):\n",
        "  column = [[x[itr] for x in grid if x[itr] != 0] for itr in range(9) ]\n",
        "  return False not in [True if len(set(c)) == len(c) else False for c in column]\n",
        "\n",
        "# Checks grids for repeating nummbers \n",
        "def validBoxes(grid): \n",
        "  isValid = True\n",
        "  for itr in range(9):\n",
        "    if isValid == True: \n",
        "      flatList = np.array([grid[itr][0:3], grid[itr][3:6], grid[itr][6:9]]).flatten()\n",
        "      flatList = flatList[flatList != 0]\n",
        "      isValid = len(flatList) == len(set(flatList))\n",
        "  return isValid\n",
        "        \n",
        "# Minimizes possible values through constraint programming\n",
        "def constraintCheck(trialMatrix, row, col, trialValue):\n",
        "    trialValue = trialValue - 1\n",
        "    modifiedList = []\n",
        "    for itr in range(9):\n",
        "      if trialMatrix[itr][col][trialValue] == 1:\n",
        "        modifiedList.append((itr, col))\n",
        "        trialMatrix[itr][col][trialValue] = 0\n",
        "\n",
        "    for itr in range(len(trialMatrix[row])):\n",
        "      if trialMatrix[row][itr][trialValue] == 1:\n",
        "        modifiedList.append((row,itr))\n",
        "        trialMatrix[row][itr][trialValue] = 0\n",
        "\n",
        "    for itr in product(range((row // 3)*3, (row // 3)*3 + 3), range((col // 3) * 3, (col // 3)*3 + 3)):\n",
        "      if trialMatrix[itr[0]][itr[1]][trialValue] == 1:\n",
        "          modifiedList.append((itr[0],itr[1]))\n",
        "          trialMatrix[itr[0]][itr[1]][trialValue] = 0\n",
        "  \n",
        "    return modifiedList\n",
        "\n",
        "# Carries out the backtracking depth first search\n",
        "def search(grid, trialMatrix, rowValues, colValues, trialValues):\n",
        "    \n",
        "    for itr in product(range(len(grid)), range(len(grid[0]))):\n",
        "      if grid[itr[0]][itr[1]] == 0 and sum(trialMatrix[itr[0]][itr[1]]) < trialValues:\n",
        "        trialValues = sum(trialMatrix[itr[0]][itr[1]])\n",
        "        rowValues = itr[0]\n",
        "        colValues = itr[1]\n",
        "\n",
        "    isValidCell = (rowValues, colValues) if trialValues < 10 else False    \n",
        "        \n",
        "    if isValidCell: row, col = isValidCell \n",
        "    else: return True\n",
        "\n",
        "    for pValue in range(9):\n",
        "        if trialMatrix[row][col][pValue] != 1: continue\n",
        "        minSudoku = constraintCheck(trialMatrix, row, col, pValue +1)\n",
        "        grid[row][col] = pValue + 1\n",
        "        if search(grid, trialMatrix, -1 , -1, 10): return True\n",
        "        # Updates the trial matrix, minimizing the problem space through constraint programming\n",
        "        for row_x, col_x in minSudoku:\n",
        "          trialMatrix[row_x][col_x][pValue] = 1\n",
        "        grid[row][col] = 0\n",
        "\n",
        "    return False # Unsolvable sudoku grid\n",
        "\n",
        "# Checks for initial invalid sudokus then initialises a possible value space which is then solved\n",
        "InvalidSudoku = np.full((9, 9), -1)\n",
        "def sudoku_solver(sudoku):\n",
        "    if not (validRows(sudoku) and validColumns(sudoku) and validBoxes(sudoku)): return InvalidSudoku \n",
        "    trialMatrix = np.ones((9,9,9))\n",
        "    for itr in product(range(9), range(9)):\n",
        "          if sudoku[itr[0]][itr[1]] != 0: constraintCheck(trialMatrix, itr[0], itr[1], sudoku[itr[0]][itr[1]]) \n",
        "    return sudoku if search(sudoku, trialMatrix,-1,-1, 10) else InvalidSudoku"
      ]
    },
    {
      "cell_type": "markdown",
      "metadata": {
        "id": "mwO-VpJIY14K"
      },
      "source": [
        "All of your code must go above this cell. You may add additional cells into the notebook if you wish, but do not duplicate or copy/paste cells as this can interfere with the grading script.\n",
        "\n",
        "### Testing Details\n",
        "There are four difficulties of sudoku provided: very easy, easy, medium, and hard. There are 15 sample sudokus in each category, with solutions as well. Difficulty was determined using reference solvers, but your code may vary; it is conceivable that your code will find some sudokus much easier or harder within a given category, or even between categories.\n",
        "\n",
        "*All categories that are easy and above will contain* ***invalid initial states***, that is, sudoku puzzles with no solution. In this case, your function should return a 9x9 NumPy array whose values are all equal to -1.\n",
        "\n",
        "When we test your code, we will firstly test it on the *same* very easy puzzles that you have been given. Then we will test it on additional *hidden* sudokus from each difficulty in turn, easy and up – many more than 15 of each. Grades are awarded based on whether your code can solve the puzzles. For high grades on the hard puzzles, execution time will also be a factor. \n",
        "\n",
        "All puzzles must take under 20 seconds each on the test machine to count as successful – if it takes longer, it will timeout. Note that this is a maximum, not a goal. Higher grades require better performance on harder puzzles. As a very rough benchmark, you should be aiming for an average of under a second per puzzle. Hardware varies, but all tests will take place on the same modern desktop machine. Our ‘standard constraint satisfaction’ implementation takes about 0.001 seconds per puzzle for the very easy category, but struggles to solve some of the hard puzzles within the time limit.\n",
        "\n",
        "***The hard sudokus are labelled as hard for a reason.*** We expect most submissions will not be able to solve them in a reasonable length of time. Use the stop button (■) on the toolbar if you need to terminate your code because it is taking too long.\n",
        "\n",
        "The best way to improve the performance of your code is through a detailed understanding and smart choice of AI algorithms and data structures. This assignment is ***not*** meant to test your ability to write multi-threaded code or any other kind of high-performance code optimisations. \n",
        "\n",
        "#### Test Cell\n",
        "The following code will run your solution over the provided sudoku puzzles. To enable it, set the constant `SKIP_TESTS` to `False`. If you fail any tests of one difficulty, the code will stop, but you can modify this behaviour if you like.\n",
        "\n",
        "**IMPORTANT**: you must set `SKIP_TESTS` back to `True` before submitting this file!"
      ]
    },
    {
      "cell_type": "code",
      "execution_count": null,
      "metadata": {
        "colab": {
          "base_uri": "https://localhost:8080/"
        },
        "id": "L5SpWgtLY14L",
        "outputId": "096e84bd-2663-4995-ef83-00ad6883fbea"
      },
      "outputs": [],
      "source": [
        "SKIP_TESTS = True\n",
        "\n",
        "def tests():\n",
        "    import time\n",
        "    difficulties = ['very_easy','easy', 'medium','hard']\n",
        "\n",
        "    for difficulty in difficulties:\n",
        "        print(f\"Testing {difficulty} sudokus\")\n",
        "        \n",
        "        sudokus = np.load(f\"data/{difficulty}_puzzle.npy\")\n",
        "        solutions = np.load(f\"data/{difficulty}_solution.npy\")\n",
        "        \n",
        "        count = 0\n",
        "        for i in range(len(sudokus)):\n",
        "            sudoku = sudokus[i].copy()\n",
        "            print(f\"This is {difficulty} sudoku number\", i)\n",
        "            print(sudoku)\n",
        "            \n",
        "            start_time = time.process_time()\n",
        "            your_solution = sudoku_solver(sudoku)\n",
        "            end_time = time.process_time()\n",
        "            \n",
        "            print(f\"This is your solution for {difficulty} sudoku number\", i)\n",
        "            print(your_solution)\n",
        "            \n",
        "            print(\"Is your solution correct?\")\n",
        "            if np.array_equal(your_solution, solutions[i]):\n",
        "                print(\"Yes! Correct solution.\")\n",
        "                count += 1\n",
        "            else:\n",
        "                print(i)\n",
        "                print(\"No, the correct solution is:\")\n",
        "                print(solutions[i])\n",
        "            \n",
        "            print(\"This sudoku took\", end_time-start_time, \"seconds to solve.\\n\")\n",
        "\n",
        "        print(f\"{count}/{len(sudokus)} {difficulty} sudokus correct\")\n",
        "        if count < len(sudokus):\n",
        "            break\n",
        "            \n",
        "if not SKIP_TESTS:\n",
        "    tests()"
      ]
    },
    {
      "cell_type": "markdown",
      "metadata": {
        "id": "7au2PAhPY14M"
      },
      "source": [
        "## Submission Test\n",
        "The following cell tests if your notebook is ready for submission. **You must not skip this step!**\n",
        "\n",
        "Restart the kernel and run the entire notebook (Kernel → Restart & Run All). Now look at the output of the cell below. \n",
        "\n",
        "*If there is no output, then your submission is not ready.* Either your code is still running (did you forget to skip tests?) or it caused an error.\n",
        "\n",
        "As previously mentioned, failing to follow these instructions can result in a grade of zero."
      ]
    },
    {
      "cell_type": "code",
      "execution_count": null,
      "metadata": {
        "colab": {
          "base_uri": "https://localhost:8080/"
        },
        "deletable": false,
        "editable": false,
        "id": "LSjiKfRfY14M",
        "nbgrader": {
          "cell_type": "code",
          "checksum": "351cdb7141416be3f8bbc09756559378",
          "grade": false,
          "grade_id": "cell-a63a4d748ed51f34",
          "locked": true,
          "schema_version": 3,
          "solution": false,
          "task": false
        },
        "outputId": "7f6e727c-4bb9-4ce3-c5c8-827824cb3cd7"
      },
      "outputs": [],
      "source": [
        "def submission_tests():\n",
        "    import sys\n",
        "    import pathlib\n",
        "\n",
        "    fail = False;\n",
        "\n",
        "    if not SKIP_TESTS:\n",
        "        fail = True;\n",
        "        print(\"You must set the SKIP_TESTS constant to True in the cell above.\")\n",
        "\n",
        "    p1 = pathlib.Path('./readme.txt')\n",
        "    p2 = pathlib.Path('./readme.md')\n",
        "    if not (p1.is_file() or p2.is_file()):\n",
        "        fail = True;\n",
        "        print(\"You must include a separate file called readme.txt or readme.md in your submission.\")\n",
        "\n",
        "    p3 = pathlib.Path('./sudoku.ipynb')\n",
        "    if not p3.is_file():\n",
        "        fail = True\n",
        "        print(\"This notebook file must be named sudoku.ipynb\")\n",
        "\n",
        "    if \"sudoku_solver\" not in globals():\n",
        "        fail = True;\n",
        "        print(\"You must include a function called sudoku_solver which accepts a numpy array.\")\n",
        "    else: \n",
        "        sudoku = np.load(\"data/very_easy_puzzle.npy\")[0]\n",
        "        solution = np.load(\"data/very_easy_solution.npy\")[0]\n",
        "\n",
        "        if not np.array_equal(sudoku_solver(sudoku), solution):\n",
        "            print(\"Warning:\")\n",
        "            print(\"Your sudoku_solver function does not correctly solve the first sudoku.\")\n",
        "            print()\n",
        "            print(\"Your assignment is unlikely to get any marks from the autograder. While we will\")\n",
        "            print(\"try to check it manually to assign some partial credit, we encourage you to ask\")\n",
        "            print(\"for help on the forum or directly to a tutor.\")\n",
        "            print()\n",
        "            print(\"Please use the readme file to explain your code anyway.\")\n",
        "\n",
        "    if fail:\n",
        "        print()\n",
        "        sys.stderr.write(\"Your submission is not ready! Please read and follow the instructions above.\")\n",
        "    else:\n",
        "        print(\"All checks passed. When you are ready to submit, upload the notebook and readme file to the\")\n",
        "        print(\"assignment page, without changing any filenames.\")\n",
        "        print()\n",
        "        print(\"If you need to submit multiple files, you can archive them in a .zip file. (No other format.)\")\n",
        "        \n",
        "submission_tests()"
      ]
    },
    {
      "cell_type": "code",
      "execution_count": null,
      "metadata": {
        "deletable": false,
        "editable": false,
        "id": "9zFkEE9FY14N",
        "nbgrader": {
          "cell_type": "code",
          "checksum": "8e3783f006efdaed42b84b97c9323ed5",
          "grade": true,
          "grade_id": "cell-fe8038dbd05ddef7",
          "locked": true,
          "points": 100,
          "schema_version": 3,
          "solution": false,
          "task": false
        }
      },
      "outputs": [],
      "source": [
        "# This is a TEST CELL. Do not delete or change."
      ]
    }
  ],
  "metadata": {
    "colab": {
      "collapsed_sections": [],
      "name": "sudoku.ipynb",
      "provenance": []
    },
    "kernelspec": {
      "display_name": "Python 3.6",
      "language": "python",
      "name": "python3"
    },
    "language_info": {
      "codemirror_mode": {
        "name": "ipython",
        "version": 3
      },
      "file_extension": ".py",
      "mimetype": "text/x-python",
      "name": "python",
      "nbconvert_exporter": "python",
      "pygments_lexer": "ipython3",
      "version": "3.10.4"
    }
  },
  "nbformat": 4,
  "nbformat_minor": 0
}
